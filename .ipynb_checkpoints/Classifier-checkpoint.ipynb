{
 "cells": [
  {
   "cell_type": "markdown",
   "id": "adbf3c69",
   "metadata": {},
   "source": [
    "# CLASSIFICATION ALGORITHM\n",
    "\n",
    "This project involves the creation of a classifier that will accurately classify a list of reddit comments into given labels.\n",
    "\n",
    "* The dataset contains three columns (username, comments and label)\n",
    "* The predictor variable is the **comments** column.\n",
    "* The target variable is the **label** column."
   ]
  },
  {
   "cell_type": "code",
   "execution_count": 1,
   "id": "ace25ff9",
   "metadata": {},
   "outputs": [],
   "source": [
    "# Libraries for data loading and data visualization\n",
    "import numpy as np\n",
    "import pandas as pd\n",
    "import matplotlib.pyplot as plt\n",
    "import seaborn as sns\n",
    "\n",
    "# Libraries for modelling\n",
    "#Models from Scikit-Learn\n",
    "from sklearn.linear_model import LogisticRegression\n",
    "from sklearn.neighbors import KNeighborsClassifier\n",
    "from sklearn.ensemble import RandomForestClassifier\n",
    "from sklearn.tree import DecisionTreeClassifier\n",
    "from sklearn.naive_bayes import MultinomialNB\n",
    "from sklearn.linear_model import LogisticRegression, RidgeClassifier\n",
    "from xgboost.sklearn import XGBClassifier\n",
    "\n",
    "# Model Evaluations\n",
    "from sklearn.feature_extraction.text import CountVectorizer\n",
    "from sklearn.model_selection import train_test_split, cross_val_score\n",
    "from sklearn.model_selection import RandomizedSearchCV, GridSearchCV\n",
    "from sklearn.metrics import confusion_matrix, classification_report\n",
    "from sklearn.metrics import precision_score, recall_score, f1_score\n",
    "\n",
    "# from the nltk library.\n",
    "import nltk\n",
    "from nltk.corpus import stopwords\n",
    "stop = stopwords.words('english')\n",
    "from nltk.stem import PorterStemmer\n",
    "from nltk.stem import WordNetLemmatizer\n",
    "#nltk.download('wordnet')\n",
    "import string\n",
    "from nltk.tokenize import word_tokenize, TreebankWordTokenizer\n",
    "from nltk.stem import WordNetLemmatizer\n",
    "from nltk.corpus import stopwords\n",
    "from sklearn.feature_extraction.text import CountVectorizer\n",
    "from nltk import SnowballStemmer, PorterStemmer, LancasterStemmer\n",
    "from sklearn.utils import resample\n",
    "\n",
    "# To save trained models\n",
    "import pickle\n",
    "\n",
    "# Other neeeded libraries\n",
    "import re"
   ]
  },
  {
   "cell_type": "code",
   "execution_count": 2,
   "id": "9254fa1d",
   "metadata": {},
   "outputs": [],
   "source": [
    "# loading the datasets\n",
    "data = pd.ExcelFile('reddit_usernames_comments.xlsx')\n",
    "comments = data.parse('reddit_usernames_comments')"
   ]
  },
  {
   "cell_type": "code",
   "execution_count": 3,
   "id": "1917b01e",
   "metadata": {},
   "outputs": [
    {
     "name": "stdout",
     "output_type": "stream",
     "text": [
      "<class 'pandas.core.frame.DataFrame'>\n",
      "RangeIndex: 3259 entries, 0 to 3258\n",
      "Data columns (total 3 columns):\n",
      " #   Column    Non-Null Count  Dtype \n",
      "---  ------    --------------  ----- \n",
      " 0   username  3259 non-null   object\n",
      " 1   comments  3259 non-null   object\n",
      " 2   label     1310 non-null   object\n",
      "dtypes: object(3)\n",
      "memory usage: 76.5+ KB\n"
     ]
    }
   ],
   "source": [
    "comments.info()"
   ]
  },
  {
   "cell_type": "code",
   "execution_count": 4,
   "id": "496c2f9c",
   "metadata": {},
   "outputs": [
    {
     "data": {
      "text/html": [
       "<div>\n",
       "<style scoped>\n",
       "    .dataframe tbody tr th:only-of-type {\n",
       "        vertical-align: middle;\n",
       "    }\n",
       "\n",
       "    .dataframe tbody tr th {\n",
       "        vertical-align: top;\n",
       "    }\n",
       "\n",
       "    .dataframe thead th {\n",
       "        text-align: right;\n",
       "    }\n",
       "</style>\n",
       "<table border=\"1\" class=\"dataframe\">\n",
       "  <thead>\n",
       "    <tr style=\"text-align: right;\">\n",
       "      <th></th>\n",
       "      <th>username</th>\n",
       "      <th>comments</th>\n",
       "      <th>label</th>\n",
       "    </tr>\n",
       "  </thead>\n",
       "  <tbody>\n",
       "    <tr>\n",
       "      <th>0</th>\n",
       "      <td>--solaris--</td>\n",
       "      <td>I think a lot of other people made some good p...</td>\n",
       "      <td>Other</td>\n",
       "    </tr>\n",
       "    <tr>\n",
       "      <th>1</th>\n",
       "      <td>-Mother_of_Doggos</td>\n",
       "      <td>No, and it doesn’t suit you based on what you’...</td>\n",
       "      <td>Other</td>\n",
       "    </tr>\n",
       "    <tr>\n",
       "      <th>2</th>\n",
       "      <td>-Tasear-</td>\n",
       "      <td>It's just the adjustment period to any new pla...</td>\n",
       "      <td>Veterinarian</td>\n",
       "    </tr>\n",
       "    <tr>\n",
       "      <th>3</th>\n",
       "      <td>-Zyonia-</td>\n",
       "      <td>I am living this currently and when a trainee ...</td>\n",
       "      <td>Other</td>\n",
       "    </tr>\n",
       "    <tr>\n",
       "      <th>4</th>\n",
       "      <td>-p-OodlesOfNoodles</td>\n",
       "      <td>Well that's disappointing that there is no cha...</td>\n",
       "      <td>Other</td>\n",
       "    </tr>\n",
       "  </tbody>\n",
       "</table>\n",
       "</div>"
      ],
      "text/plain": [
       "             username                                           comments  \\\n",
       "0         --solaris--  I think a lot of other people made some good p...   \n",
       "1   -Mother_of_Doggos  No, and it doesn’t suit you based on what you’...   \n",
       "2            -Tasear-  It's just the adjustment period to any new pla...   \n",
       "3            -Zyonia-  I am living this currently and when a trainee ...   \n",
       "4  -p-OodlesOfNoodles  Well that's disappointing that there is no cha...   \n",
       "\n",
       "          label  \n",
       "0         Other  \n",
       "1         Other  \n",
       "2  Veterinarian  \n",
       "3         Other  \n",
       "4         Other  "
      ]
     },
     "execution_count": 4,
     "metadata": {},
     "output_type": "execute_result"
    }
   ],
   "source": [
    "comments.head()"
   ]
  },
  {
   "cell_type": "markdown",
   "id": "eb065f44",
   "metadata": {},
   "source": [
    "## Training and Prediction datasets\n",
    "* The given dataset have two columns (username and comments) with no labels.\n",
    "* Labels have been manually added for 40% of the dataset (i.e. 1310 of 3259 rows) which will be used to train and evaluate the model.\n",
    "* The remaining 60% of the dataset will be used to run the main predictions."
   ]
  },
  {
   "cell_type": "code",
   "execution_count": 5,
   "id": "8a843d3f",
   "metadata": {},
   "outputs": [],
   "source": [
    "# splitting the data into train and test set\n",
    "# the train set is the first 1310 rows of the dataset\n",
    "train_data = comments.iloc[:1310]\n",
    "\n",
    "# the test set is the remaining 2607 rows of the dataset\n",
    "data_for_prediction = comments.iloc[1310:]\n",
    "# dropping the labels column for the test dataset\n",
    "prediction_data = data_for_prediction.drop(['label'], axis=1)"
   ]
  },
  {
   "cell_type": "markdown",
   "id": "211da4e6",
   "metadata": {},
   "source": [
    "## Dropping the Username column\n",
    "\n",
    "The username column will be dropped for both the train and test datasets as we intend train our models with just the **comments** column."
   ]
  },
  {
   "cell_type": "code",
   "execution_count": 6,
   "id": "ebbc9965",
   "metadata": {},
   "outputs": [],
   "source": [
    "# dropping the username column for both the train and test datasets\n",
    "train_data = train_data.drop(['username'], axis=1)\n",
    "prediction_data = data_for_prediction.drop(['username'], axis=1)"
   ]
  },
  {
   "cell_type": "markdown",
   "id": "d22d5e46",
   "metadata": {},
   "source": [
    "## Exploratory Data Analysis\n",
    "Exploring the train dataset"
   ]
  },
  {
   "cell_type": "code",
   "execution_count": 7,
   "id": "298f4832",
   "metadata": {},
   "outputs": [
    {
     "name": "stdout",
     "output_type": "stream",
     "text": [
      "<class 'pandas.core.frame.DataFrame'>\n",
      "RangeIndex: 1310 entries, 0 to 1309\n",
      "Data columns (total 2 columns):\n",
      " #   Column    Non-Null Count  Dtype \n",
      "---  ------    --------------  ----- \n",
      " 0   comments  1310 non-null   object\n",
      " 1   label     1310 non-null   object\n",
      "dtypes: object(2)\n",
      "memory usage: 20.6+ KB\n"
     ]
    }
   ],
   "source": [
    "train_data.info()"
   ]
  },
  {
   "cell_type": "code",
   "execution_count": 8,
   "id": "feaa77b1",
   "metadata": {},
   "outputs": [
    {
     "data": {
      "text/html": [
       "<div>\n",
       "<style scoped>\n",
       "    .dataframe tbody tr th:only-of-type {\n",
       "        vertical-align: middle;\n",
       "    }\n",
       "\n",
       "    .dataframe tbody tr th {\n",
       "        vertical-align: top;\n",
       "    }\n",
       "\n",
       "    .dataframe thead th {\n",
       "        text-align: right;\n",
       "    }\n",
       "</style>\n",
       "<table border=\"1\" class=\"dataframe\">\n",
       "  <thead>\n",
       "    <tr style=\"text-align: right;\">\n",
       "      <th></th>\n",
       "      <th>comments</th>\n",
       "      <th>label</th>\n",
       "    </tr>\n",
       "  </thead>\n",
       "  <tbody>\n",
       "    <tr>\n",
       "      <th>count</th>\n",
       "      <td>1310</td>\n",
       "      <td>1310</td>\n",
       "    </tr>\n",
       "    <tr>\n",
       "      <th>unique</th>\n",
       "      <td>1309</td>\n",
       "      <td>3</td>\n",
       "    </tr>\n",
       "    <tr>\n",
       "      <th>top</th>\n",
       "      <td>Veterinary resident, 40000 with various deduct...</td>\n",
       "      <td>Other</td>\n",
       "    </tr>\n",
       "    <tr>\n",
       "      <th>freq</th>\n",
       "      <td>2</td>\n",
       "      <td>961</td>\n",
       "    </tr>\n",
       "  </tbody>\n",
       "</table>\n",
       "</div>"
      ],
      "text/plain": [
       "                                                 comments  label\n",
       "count                                                1310   1310\n",
       "unique                                               1309      3\n",
       "top     Veterinary resident, 40000 with various deduct...  Other\n",
       "freq                                                    2    961"
      ]
     },
     "execution_count": 8,
     "metadata": {},
     "output_type": "execute_result"
    }
   ],
   "source": [
    "train_data.describe()"
   ]
  },
  {
   "cell_type": "code",
   "execution_count": 9,
   "id": "2dc7dae9",
   "metadata": {},
   "outputs": [
    {
     "data": {
      "text/plain": [
       "0       I think a lot of other people made some good p...\n",
       "1       No, and it doesn’t suit you based on what you’...\n",
       "2       It's just the adjustment period to any new pla...\n",
       "3       I am living this currently and when a trainee ...\n",
       "4       Well that's disappointing that there is no cha...\n",
       "                              ...                        \n",
       "1305    If you don't mind answering, what country is y...\n",
       "1306    I felt this way, too, after working at two pra...\n",
       "1307    MysteriumVPN may work in Iran and China, howev...\n",
       "1308    I’m using Goldie Vet an Australian one free at...\n",
       "1309    Thank you for saying this. A few kind words ca...\n",
       "Name: comments, Length: 1310, dtype: object"
      ]
     },
     "execution_count": 9,
     "metadata": {},
     "output_type": "execute_result"
    }
   ],
   "source": [
    "# taking a closer look at the comments column\n",
    "train_data['comments']"
   ]
  },
  {
   "cell_type": "code",
   "execution_count": 10,
   "id": "a0be110d",
   "metadata": {},
   "outputs": [
    {
     "data": {
      "text/plain": [
       "<AxesSubplot:ylabel='label'>"
      ]
     },
     "execution_count": 10,
     "metadata": {},
     "output_type": "execute_result"
    },
    {
     "data": {
      "image/png": "[encoded data removed]",
      "text/plain": [
       "<Figure size 640x480 with 1 Axes>"
      ]
     },
     "metadata": {},
     "output_type": "display_data"
    }
   ],
   "source": [
    "# visualizing the target variable\n",
    "train_data['label'].value_counts().plot(kind='pie', autopct='%1.0f%%')"
   ]
  },
  {
   "cell_type": "markdown",
   "id": "769da893",
   "metadata": {},
   "source": [
    "### The data labels\n",
    "* Medical Doctor: when the comment is made by a practicing doctor.\n",
    "* Veterinarian: when the comment is made by a practicing vet.\n",
    "* Others: when the comment is made by other people."
   ]
  },
  {
   "cell_type": "markdown",
   "id": "3831b0d8",
   "metadata": {},
   "source": [
    "## FEATURE ENGINEERING\n",
    "\n",
    "### The data labels\n",
    "* Medical Doctor: when the comment is made by a practicing doctor.\n",
    "* Veterinarian: when the comment is made by a practicing vet.\n",
    "* Others: when the comment is made by other people.\n",
    "\n",
    "### Converting the data labels to numbers\n",
    "* Medical Doctor will be converted to the value **2**.\n",
    "* Veterinarian will be converted to the value **1**.\n",
    "* Others will be converted to the value **0**."
   ]
  },
  {
   "cell_type": "code",
   "execution_count": 11,
   "id": "f8bbdc00",
   "metadata": {},
   "outputs": [],
   "source": [
    "# Converting the label column to number\n",
    "train_data['label'] = train_data['label'].replace({'Other':0, 'Veterinarian':1, 'Medical Doctor':2})"
   ]
  },
  {
   "cell_type": "markdown",
   "id": "c6f6c52f",
   "metadata": {},
   "source": [
    "### Cleaning the comments column"
   ]
  },
  {
   "cell_type": "code",
   "execution_count": 12,
   "id": "a8064f8f",
   "metadata": {},
   "outputs": [],
   "source": [
    "# Converting all entries of the column to lower case\n",
    "train_data['comments'] = train_data['comments'].str.lower()\n",
    "\n",
    "# Removing punctuations from the comments\n",
    "string.punctuation\n",
    "\n",
    "# Function that removes punctuations from texts\n",
    "def clean_punct(text):\n",
    "    \"\"\"\n",
    "    The function clean_punction: It takes in a text as input and loops through\n",
    "    the text to select only characters that are not in string.punctuation.\n",
    "    \n",
    "    \"\"\"\n",
    "    text  = \"\".join([char for char in text if char not in string.punctuation])\n",
    "    text = re.sub('[0-9]+', '', text)\n",
    "    return text"
   ]
  },
  {
   "cell_type": "code",
   "execution_count": 13,
   "id": "48b97bd0",
   "metadata": {},
   "outputs": [],
   "source": [
    "# Removing all website urls and replacing them with the text 'web-url'\n",
    "pattern_url = r'http[s]?://(?:[A-Za-z]|[0-9]|[$-_@.&+]|[!*\\(\\),]|(?:%[0-9A-Fa-f][0-9A-Fa-f]))+'\n",
    "replace_url = r'web-url'\n",
    "train_data['comments'] = train_data['comments'].replace(to_replace = pattern_url, value = replace_url, regex = True)"
   ]
  },
  {
   "cell_type": "code",
   "execution_count": 14,
   "id": "5e255411",
   "metadata": {
    "scrolled": true
   },
   "outputs": [
    {
     "data": {
      "text/html": [
       "<div>\n",
       "<style scoped>\n",
       "    .dataframe tbody tr th:only-of-type {\n",
       "        vertical-align: middle;\n",
       "    }\n",
       "\n",
       "    .dataframe tbody tr th {\n",
       "        vertical-align: top;\n",
       "    }\n",
       "\n",
       "    .dataframe thead th {\n",
       "        text-align: right;\n",
       "    }\n",
       "</style>\n",
       "<table border=\"1\" class=\"dataframe\">\n",
       "  <thead>\n",
       "    <tr style=\"text-align: right;\">\n",
       "      <th></th>\n",
       "      <th>comments</th>\n",
       "      <th>label</th>\n",
       "    </tr>\n",
       "  </thead>\n",
       "  <tbody>\n",
       "    <tr>\n",
       "      <th>0</th>\n",
       "      <td>i think a lot of other people made some good p...</td>\n",
       "      <td>0</td>\n",
       "    </tr>\n",
       "    <tr>\n",
       "      <th>1</th>\n",
       "      <td>no and it doesn’t suit you based on what you’v...</td>\n",
       "      <td>0</td>\n",
       "    </tr>\n",
       "    <tr>\n",
       "      <th>2</th>\n",
       "      <td>its just the adjustment period to any new plac...</td>\n",
       "      <td>1</td>\n",
       "    </tr>\n",
       "    <tr>\n",
       "      <th>3</th>\n",
       "      <td>i am living this currently and when a trainee ...</td>\n",
       "      <td>0</td>\n",
       "    </tr>\n",
       "    <tr>\n",
       "      <th>4</th>\n",
       "      <td>well thats disappointing that there is no chan...</td>\n",
       "      <td>0</td>\n",
       "    </tr>\n",
       "  </tbody>\n",
       "</table>\n",
       "</div>"
      ],
      "text/plain": [
       "                                            comments  label\n",
       "0  i think a lot of other people made some good p...      0\n",
       "1  no and it doesn’t suit you based on what you’v...      0\n",
       "2  its just the adjustment period to any new plac...      1\n",
       "3  i am living this currently and when a trainee ...      0\n",
       "4  well thats disappointing that there is no chan...      0"
      ]
     },
     "execution_count": 14,
     "metadata": {},
     "output_type": "execute_result"
    }
   ],
   "source": [
    "# Applying the clean_punct function to the comments column\n",
    "train_data['comments'] = train_data['comments'].apply(lambda x: clean_punct(x))\n",
    "\n",
    "# Checking the new look of the data\n",
    "train_data.head()"
   ]
  },
  {
   "cell_type": "markdown",
   "id": "0089fbc0",
   "metadata": {},
   "source": [
    "### Stemming and Lemmatization process."
   ]
  },
  {
   "cell_type": "code",
   "execution_count": 15,
   "id": "188853b1",
   "metadata": {},
   "outputs": [],
   "source": [
    "# Tokenizing the comments\n",
    "tokeniser = TreebankWordTokenizer()\n",
    "train_data['comments'] = train_data['comments'].apply(tokeniser.tokenize)"
   ]
  },
  {
   "cell_type": "code",
   "execution_count": 16,
   "id": "92e10aec",
   "metadata": {},
   "outputs": [],
   "source": [
    "# Applying Lammetization\n",
    "lemmatizer = WordNetLemmatizer()\n",
    "\n",
    "# Defining a function that will handle the lematization process\n",
    "def lemma(words, lemmatizer):\n",
    "    return ' '.join([lemmatizer.lemmatize(word) for word in words])\n",
    "\n",
    "# Applying the lemma function\n",
    "train_data['comments'] = train_data['comments'].apply(lemma, args=(lemmatizer, ))"
   ]
  },
  {
   "cell_type": "code",
   "execution_count": 17,
   "id": "3b63aa66",
   "metadata": {},
   "outputs": [],
   "source": [
    "# Vectorizing the data using countVectorizer\n",
    "vectorizer = CountVectorizer(lowercase=True, stop_words='english', analyzer='word', ngram_range=(1, 1))"
   ]
  },
  {
   "cell_type": "code",
   "execution_count": 18,
   "id": "906a66c5",
   "metadata": {},
   "outputs": [],
   "source": [
    "# Fitting the vectorizer and transforming the data with it\n",
    "data_vect = vectorizer.fit(train_data['comments'].values.astype(str))\n",
    "train_data_vect = data_vect.transform(train_data['comments'].values.astype(str))"
   ]
  },
  {
   "cell_type": "code",
   "execution_count": 19,
   "id": "9840a9be",
   "metadata": {},
   "outputs": [],
   "source": [
    "# Converting the vectorized data to array\n",
    "x_vect = train_data_vect.toarray()\n",
    "y = train_data['label']"
   ]
  },
  {
   "cell_type": "code",
   "execution_count": 20,
   "id": "f35b3de9",
   "metadata": {},
   "outputs": [],
   "source": [
    "# Dumping the vectorizer in a pickle file\n",
    "pickle.dump(data_vect, open(\"vectorizer.pkl\", \"wb\"))"
   ]
  },
  {
   "cell_type": "markdown",
   "id": "5b833153",
   "metadata": {},
   "source": [
    "# MODELLING\n",
    "\n",
    "The training data set will be split into two places.\n",
    "* train set: To train the model\n",
    "* test set: To evaluate the model\n",
    "\n",
    "Note: The test set is different from the **test** dataset we created in the beginning of the work."
   ]
  },
  {
   "cell_type": "code",
   "execution_count": 21,
   "id": "5921c222",
   "metadata": {},
   "outputs": [],
   "source": [
    "# Split Data (into Training & Test)\n",
    "X_train, X_test, y_train, y_test = train_test_split(x_vect, y, test_size=0.25, random_state=1)"
   ]
  },
  {
   "cell_type": "code",
   "execution_count": 22,
   "id": "cd6f0831",
   "metadata": {},
   "outputs": [],
   "source": [
    "# Initializing our models for fitting\n",
    "dt = DecisionTreeClassifier()\n",
    "\n",
    "rf = RandomForestClassifier()\n",
    "\n",
    "xgb = XGBClassifier()"
   ]
  },
  {
   "cell_type": "code",
   "execution_count": 23,
   "id": "b0118781",
   "metadata": {},
   "outputs": [
    {
     "data": {
      "text/plain": [
       "XGBClassifier(base_score=None, booster=None, callbacks=None,\n",
       "              colsample_bylevel=None, colsample_bynode=None,\n",
       "              colsample_bytree=None, device=None, early_stopping_rounds=None,\n",
       "              enable_categorical=False, eval_metric=None, feature_types=None,\n",
       "              gamma=None, grow_policy=None, importance_type=None,\n",
       "              interaction_constraints=None, learning_rate=None, max_bin=None,\n",
       "              max_cat_threshold=None, max_cat_to_onehot=None,\n",
       "              max_delta_step=None, max_depth=None, max_leaves=None,\n",
       "              min_child_weight=None, missing=nan, monotone_constraints=None,\n",
       "              multi_strategy=None, n_estimators=None, n_jobs=None,\n",
       "              num_parallel_tree=None, objective='multi:softprob', ...)"
      ]
     },
     "execution_count": 23,
     "metadata": {},
     "output_type": "execute_result"
    }
   ],
   "source": [
    "#fitting the models \n",
    "dt.fit(X_train, y_train)\n",
    "rf.fit(X_train, y_train)\n",
    "xgb.fit(X_train, y_train)"
   ]
  },
  {
   "cell_type": "code",
   "execution_count": 24,
   "id": "c43f4277",
   "metadata": {},
   "outputs": [],
   "source": [
    "# Generating predictions\n",
    "pred1 = dt.predict(X_test)\n",
    "pred2 = rf.predict(X_test)\n",
    "pred3 = xgb.predict(X_test)"
   ]
  },
  {
   "cell_type": "code",
   "execution_count": 25,
   "id": "41369610",
   "metadata": {},
   "outputs": [],
   "source": [
    "# Checking f1 scores\n",
    "score1 = f1_score(y_test, pred1, average=None)\n",
    "score2 = f1_score(y_test, pred2, average=None)\n",
    "score3 = f1_score(y_test, pred3, average=None)"
   ]
  },
  {
   "cell_type": "code",
   "execution_count": 26,
   "id": "30d33ce9",
   "metadata": {},
   "outputs": [
    {
     "data": {
      "text/plain": [
       "0.42"
      ]
     },
     "execution_count": 26,
     "metadata": {},
     "output_type": "execute_result"
    }
   ],
   "source": [
    "# Checking the f1 score for the DecisionTreeClassifier\n",
    "round(score1.mean(),2)"
   ]
  },
  {
   "cell_type": "code",
   "execution_count": 27,
   "id": "71746c1c",
   "metadata": {},
   "outputs": [
    {
     "data": {
      "text/plain": [
       "0.43"
      ]
     },
     "execution_count": 27,
     "metadata": {},
     "output_type": "execute_result"
    }
   ],
   "source": [
    "# Checking the f1 score for the RandomForestClassifier\n",
    "round(score2.mean(),2)"
   ]
  },
  {
   "cell_type": "code",
   "execution_count": 28,
   "id": "e9e18723",
   "metadata": {},
   "outputs": [
    {
     "data": {
      "text/plain": [
       "0.46"
      ]
     },
     "execution_count": 28,
     "metadata": {},
     "output_type": "execute_result"
    }
   ],
   "source": [
    "# Checking the f1 score for the XGBClassifier\n",
    "round(score3.mean(),2)"
   ]
  },
  {
   "cell_type": "markdown",
   "id": "1a5e5bdc",
   "metadata": {},
   "source": [
    "**The XGBoost classifier and the random forst classifier returned the best F1 score among the models used, hence we can select any of the two classifiers.**\n",
    "\n",
    "**As such, we will be selecting the XGBoost classifier for our prediction**"
   ]
  },
  {
   "cell_type": "code",
   "execution_count": 29,
   "id": "40898e43",
   "metadata": {},
   "outputs": [],
   "source": [
    "# Dumping the chosen model in a pickle file\n",
    "pickle.dump(xgb, open('xgb_model.pkl', 'wb'))"
   ]
  },
  {
   "cell_type": "markdown",
   "id": "1f2a1c8d",
   "metadata": {},
   "source": [
    "## Main Prediction\n",
    "We will be applying the feature engineering/data cleaning steps used before creating the models on the prediction data as well. We will:\n",
    "* duplicate the comments column and apply our feature engineering/data cleaning steps on it.\n",
    "* use the duplicate column to run our prediction.\n",
    "* drop the duplicate column after getting or predictions"
   ]
  },
  {
   "cell_type": "code",
   "execution_count": 30,
   "id": "013f40df",
   "metadata": {},
   "outputs": [],
   "source": [
    "# Duplicating the comments column\n",
    "prediction_data['comments_to_use'] = prediction_data['comments'].copy()\n",
    "\n",
    "# Removing all website urls and replacing them with the text 'web-url'\n",
    "prediction_data['comments_to_use'] = prediction_data['comments_to_use'].replace(to_replace = pattern_url, value = replace_url, regex = True)\n",
    "\n",
    "# Applying the remove punctuation funtion to the test data\n",
    "prediction_data['comments_to_use'] = prediction_data['comments_to_use'].apply(lambda x: clean_punct(x))\n",
    "\n",
    "# Tokenizing the comments\n",
    "prediction_data['comments_to_use'] = prediction_data['comments_to_use'].apply(tokeniser.tokenize)\n",
    "\n",
    "# Applying the lemma function\n",
    "prediction_data['comments_to_use'] = prediction_data['comments_to_use'].apply(lemma, args=(lemmatizer, ))\n",
    "\n",
    "# Vectorizing the data using countVectorizer\n",
    "pred_vect = vectorizer.transform(prediction_data['comments_to_use'].values.astype(str))\n",
    "\n",
    "pred_vect = pred_vect.toarray()"
   ]
  },
  {
   "cell_type": "code",
   "execution_count": 31,
   "id": "e63fe6b4",
   "metadata": {},
   "outputs": [],
   "source": [
    "# Running the chosen random forest classifier algorithm\n",
    "prediction = xgb.predict(pred_vect)"
   ]
  },
  {
   "cell_type": "code",
   "execution_count": 32,
   "id": "b152db2b",
   "metadata": {},
   "outputs": [],
   "source": [
    "# Converting the result to a column of our test dataset\n",
    "prediction_data['label'] = prediction\n",
    "\n",
    "# Converting the label column back to text\n",
    "prediction_data['label'] = prediction_data['label'].replace({0:'Other', 1:'Veterinarian', 2:'Medical Doctor'})\n",
    "\n",
    "# Dropping the duplicate column created for comments\n",
    "prediction_data = prediction_data.drop(['comments_to_use'], axis=1)\n",
    "\n",
    "# Bringing back the username column\n",
    "prediction_data['username'] = data_for_prediction['username']\n",
    "\n",
    "prediction_data = prediction_data[['username', 'comments', 'label']]"
   ]
  },
  {
   "cell_type": "code",
   "execution_count": 33,
   "id": "473fe76d",
   "metadata": {},
   "outputs": [
    {
     "data": {
      "text/html": [
       "<div>\n",
       "<style scoped>\n",
       "    .dataframe tbody tr th:only-of-type {\n",
       "        vertical-align: middle;\n",
       "    }\n",
       "\n",
       "    .dataframe tbody tr th {\n",
       "        vertical-align: top;\n",
       "    }\n",
       "\n",
       "    .dataframe thead th {\n",
       "        text-align: right;\n",
       "    }\n",
       "</style>\n",
       "<table border=\"1\" class=\"dataframe\">\n",
       "  <thead>\n",
       "    <tr style=\"text-align: right;\">\n",
       "      <th></th>\n",
       "      <th>username</th>\n",
       "      <th>comments</th>\n",
       "      <th>label</th>\n",
       "    </tr>\n",
       "  </thead>\n",
       "  <tbody>\n",
       "    <tr>\n",
       "      <th>1310</th>\n",
       "      <td>Pitiful-Bite2550</td>\n",
       "      <td>Just popping in to thank you for being one of ...</td>\n",
       "      <td>Other</td>\n",
       "    </tr>\n",
       "    <tr>\n",
       "      <th>1311</th>\n",
       "      <td>PitifulJeweler8830</td>\n",
       "      <td>Sounds exactly like Alliance Animal Health 😂|I...</td>\n",
       "      <td>Veterinarian</td>\n",
       "    </tr>\n",
       "    <tr>\n",
       "      <th>1312</th>\n",
       "      <td>Pitiful_Ad3007</td>\n",
       "      <td>[https://avtdi.org](https://avtdi.org) here’s ...</td>\n",
       "      <td>Other</td>\n",
       "    </tr>\n",
       "    <tr>\n",
       "      <th>1313</th>\n",
       "      <td>PixelPie29</td>\n",
       "      <td>The doctors at my clinic (a 20+ doctor practic...</td>\n",
       "      <td>Veterinarian</td>\n",
       "    </tr>\n",
       "    <tr>\n",
       "      <th>1314</th>\n",
       "      <td>PixelosPol</td>\n",
       "      <td>Buy 0.2 Myst from node startup ( credit card o...</td>\n",
       "      <td>Other</td>\n",
       "    </tr>\n",
       "    <tr>\n",
       "      <th>...</th>\n",
       "      <td>...</td>\n",
       "      <td>...</td>\n",
       "      <td>...</td>\n",
       "    </tr>\n",
       "    <tr>\n",
       "      <th>3254</th>\n",
       "      <td>zamozate</td>\n",
       "      <td>isnt the point to get paid for maintaining the...</td>\n",
       "      <td>Other</td>\n",
       "    </tr>\n",
       "    <tr>\n",
       "      <th>3255</th>\n",
       "      <td>ze_nite</td>\n",
       "      <td>I think its because it cant find the `server.c...</td>\n",
       "      <td>Other</td>\n",
       "    </tr>\n",
       "    <tr>\n",
       "      <th>3256</th>\n",
       "      <td>zebra_chaser</td>\n",
       "      <td>First, from the information you provided, it s...</td>\n",
       "      <td>Veterinarian</td>\n",
       "    </tr>\n",
       "    <tr>\n",
       "      <th>3257</th>\n",
       "      <td>zombievettech</td>\n",
       "      <td>Instrument bands.  Pick a color not used in pa...</td>\n",
       "      <td>Other</td>\n",
       "    </tr>\n",
       "    <tr>\n",
       "      <th>3258</th>\n",
       "      <td>zylinx</td>\n",
       "      <td>Yeah I realized this ages ago. Cool idea but n...</td>\n",
       "      <td>Other</td>\n",
       "    </tr>\n",
       "  </tbody>\n",
       "</table>\n",
       "<p>1949 rows × 3 columns</p>\n",
       "</div>"
      ],
      "text/plain": [
       "                username                                           comments  \\\n",
       "1310    Pitiful-Bite2550  Just popping in to thank you for being one of ...   \n",
       "1311  PitifulJeweler8830  Sounds exactly like Alliance Animal Health 😂|I...   \n",
       "1312      Pitiful_Ad3007  [https://avtdi.org](https://avtdi.org) here’s ...   \n",
       "1313          PixelPie29  The doctors at my clinic (a 20+ doctor practic...   \n",
       "1314          PixelosPol  Buy 0.2 Myst from node startup ( credit card o...   \n",
       "...                  ...                                                ...   \n",
       "3254            zamozate  isnt the point to get paid for maintaining the...   \n",
       "3255             ze_nite  I think its because it cant find the `server.c...   \n",
       "3256        zebra_chaser  First, from the information you provided, it s...   \n",
       "3257       zombievettech  Instrument bands.  Pick a color not used in pa...   \n",
       "3258              zylinx  Yeah I realized this ages ago. Cool idea but n...   \n",
       "\n",
       "             label  \n",
       "1310         Other  \n",
       "1311  Veterinarian  \n",
       "1312         Other  \n",
       "1313  Veterinarian  \n",
       "1314         Other  \n",
       "...            ...  \n",
       "3254         Other  \n",
       "3255         Other  \n",
       "3256  Veterinarian  \n",
       "3257         Other  \n",
       "3258         Other  \n",
       "\n",
       "[1949 rows x 3 columns]"
      ]
     },
     "execution_count": 33,
     "metadata": {},
     "output_type": "execute_result"
    }
   ],
   "source": [
    "# Checking the result\n",
    "prediction_data"
   ]
  },
  {
   "cell_type": "code",
   "execution_count": 35,
   "id": "61c26695",
   "metadata": {},
   "outputs": [],
   "source": [
    "# Converting our result to Excel\n",
    "prediction_data.to_excel('classifier_result.xlsx', sheet_name='predictions', index=False)"
   ]
  },
  {
   "cell_type": "code",
   "execution_count": null,
   "id": "b1cf6b64",
   "metadata": {},
   "outputs": [],
   "source": []
  }
 ],
 "metadata": {
  "kernelspec": {
   "display_name": "Python 3 (ipykernel)",
   "language": "python",
   "name": "python3"
  },
  "language_info": {
   "codemirror_mode": {
    "name": "ipython",
    "version": 3
   },
   "file_extension": ".py",
   "mimetype": "text/x-python",
   "name": "python",
   "nbconvert_exporter": "python",
   "pygments_lexer": "ipython3",
   "version": "3.9.13"
  }
 },
 "nbformat": 4,
 "nbformat_minor": 5
}
